{
 "cells": [
  {
   "cell_type": "code",
   "execution_count": 1,
   "id": "e7370e37",
   "metadata": {},
   "outputs": [],
   "source": [
    "def toplama(num1,num2):\n",
    "    return num1 + num2"
   ]
  },
  {
   "cell_type": "code",
   "execution_count": 2,
   "id": "c1d263b9",
   "metadata": {},
   "outputs": [
    {
     "name": "stdout",
     "output_type": "stream",
     "text": [
      "ilk numarayı giriniz: 10\n",
      "ikinci numarayı giriniz: 20\n"
     ]
    },
    {
     "data": {
      "text/plain": [
       "30"
      ]
     },
     "execution_count": 2,
     "metadata": {},
     "output_type": "execute_result"
    }
   ],
   "source": [
    "a = int(input(\"ilk numarayı giriniz: \"))\n",
    "b = int(input(\"ikinci numarayı giriniz: \"))\n",
    "toplama(a,b)"
   ]
  },
  {
   "cell_type": "code",
   "execution_count": 3,
   "id": "27b133b3",
   "metadata": {},
   "outputs": [
    {
     "name": "stdout",
     "output_type": "stream",
     "text": [
      "ilk numarayı giriniz: 10\n",
      "ikinci numarayı giriniz: 20\n"
     ]
    },
    {
     "data": {
      "text/plain": [
       "30"
      ]
     },
     "execution_count": 3,
     "metadata": {},
     "output_type": "execute_result"
    }
   ],
   "source": [
    "a = int(input(\"ilk numarayı giriniz: \"))\n",
    "b = int(input(\"ikinci numarayı giriniz: \"))\n",
    "toplama(a,b)"
   ]
  },
  {
   "cell_type": "code",
   "execution_count": 4,
   "id": "ebea5b47",
   "metadata": {},
   "outputs": [],
   "source": [
    "#hataları ele almak - error handling"
   ]
  },
  {
   "cell_type": "code",
   "execution_count": 5,
   "id": "11ed5e99",
   "metadata": {},
   "outputs": [],
   "source": [
    "#try & except & else & finally"
   ]
  },
  {
   "cell_type": "code",
   "execution_count": 6,
   "id": "3efd98cb",
   "metadata": {},
   "outputs": [
    {
     "name": "stdout",
     "output_type": "stream",
     "text": [
      "ilk numarayı giriniz: 10\n",
      "ikinci numarayı giriniz: 20\n",
      "30\n"
     ]
    }
   ],
   "source": [
    "try:\n",
    "    a = int(input(\"ilk numarayı giriniz: \"))\n",
    "    b = int(input(\"ikinci numarayı giriniz: \"))\n",
    "    print(toplama(a,b))\n",
    "except: \n",
    "    print(\"lütfen int bir değer giriniz\")"
   ]
  },
  {
   "cell_type": "code",
   "execution_count": 7,
   "id": "cfbb9825",
   "metadata": {},
   "outputs": [
    {
     "name": "stdout",
     "output_type": "stream",
     "text": [
      "ilk numarayı giriniz: 20\n",
      "ikinci numarayı giriniz: 30\n",
      "50\n"
     ]
    }
   ],
   "source": [
    "try:\n",
    "    a = int(input(\"ilk numarayı giriniz: \"))\n",
    "    b = int(input(\"ikinci numarayı giriniz: \"))\n",
    "    print(toplama(a,b))\n",
    "except: \n",
    "    print(\"lütfen int bir değer giriniz\")"
   ]
  },
  {
   "cell_type": "code",
   "execution_count": 8,
   "id": "d92d1690",
   "metadata": {},
   "outputs": [
    {
     "name": "stdout",
     "output_type": "stream",
     "text": [
      "numaranızı giriniz: 20\n",
      "elinize sağlık\n",
      "finally çağırıldı\n"
     ]
    }
   ],
   "source": [
    "try:\n",
    "    yeni_int = int(input(\"numaranızı giriniz: \"))\n",
    "except:\n",
    "    print(\"yanlış numara girdiniz\")\n",
    "else:\n",
    "    print(\"elinize sağlık\")\n",
    "finally:\n",
    "    print(\"finally çağırıldı\")"
   ]
  },
  {
   "cell_type": "code",
   "execution_count": null,
   "id": "a88c77e1",
   "metadata": {},
   "outputs": [
    {
     "name": "stdout",
     "output_type": "stream",
     "text": [
      "numaranızı giriniz: 10\n",
      "elinize sağlık\n",
      "finally çağırıldı\n",
      "numaranızı giriniz: 10\n",
      "elinize sağlık\n",
      "finally çağırıldı\n",
      "numaranızı giriniz: 10\n",
      "elinize sağlık\n",
      "finally çağırıldı\n"
     ]
    }
   ],
   "source": [
    "while True:\n",
    "    try:\n",
    "        yeni_int = int(input(\"numaranızı giriniz: \"))\n",
    "    except:\n",
    "        print(\"yanlış numara girdiniz\")\n",
    "    else:\n",
    "        print(\"elinize sağlık\")\n",
    "    finally:\n",
    "        print(\"finally çağırıldı\")"
   ]
  },
  {
   "cell_type": "code",
   "execution_count": null,
   "id": "265a2f6c",
   "metadata": {},
   "outputs": [],
   "source": [
    "while True:\n",
    "    try:\n",
    "        yeni_int = int(input(\"numaranızı giriniz: \"))\n",
    "    except:\n",
    "        print(\"yanlış numara girdiniz\")\n",
    "        continue\n",
    "    else:\n",
    "        print(\"elinize sağlık\")\n",
    "        break\n",
    "    finally:\n",
    "        print(\"finally çağırıldı\")"
   ]
  },
  {
   "cell_type": "code",
   "execution_count": null,
   "id": "42d2a43e",
   "metadata": {},
   "outputs": [],
   "source": [
    "def hesapla(x,y,islem):\n",
    "    if islem not in \"+-*/\":\n",
    "        return \"lütfen yandaki işlemlerden birini seçiniz: +-*/\"\n",
    "    if islem == \"+\":\n",
    "        return x+y\n",
    "    elif islem == \"-\":\n",
    "        return x-y\n",
    "    elif islem == \"*\":\n",
    "        return x*y\n",
    "    elif islem == \"/\":\n",
    "        return x/y\n",
    "    \n",
    "while True:\n",
    "    try:\n",
    "        ilk_numara = int(input(\"ilk numarayı giriniz: \"))\n",
    "        ikinci_numara = int(input(\"ikinci numarayı giriniz: \"))\n",
    "        islem = input(\"işleminizi seçiniz: +-*/\")\n",
    "        print(hesapla(ilk_numara,ikinci_numara,islem))\n",
    "    except:\n",
    "        print(\"lütfen sayıları düzgün giriniz\")"
   ]
  },
  {
   "cell_type": "code",
   "execution_count": null,
   "id": "b34200c8",
   "metadata": {},
   "outputs": [],
   "source": [
    "def hesapla(x,y,islem):\n",
    "    if islem not in \"+-*/\":\n",
    "        return \"lütfen yandaki işlemlerden birini seçiniz: +-*/\"\n",
    "    if islem == \"+\":\n",
    "        return x+y\n",
    "    elif islem == \"-\":\n",
    "        return x-y\n",
    "    elif islem == \"*\":\n",
    "        return x*y\n",
    "    elif islem == \"/\":\n",
    "        return x/y\n",
    "    \n",
    "while True:\n",
    "    try:\n",
    "        ilk_numara = int(input(\"ilk numarayı giriniz: \"))\n",
    "        ikinci_numara = int(input(\"ikinci numarayı giriniz: \"))\n",
    "        islem = input(\"işleminizi seçiniz: +-*/\")\n",
    "        print(hesapla(ilk_numara,ikinci_numara,islem))\n",
    "    except:\n",
    "        print(\"lütfen sayıları düzgün giriniz\")"
   ]
  }
 ],
 "metadata": {
  "kernelspec": {
   "display_name": "Python 3 (ipykernel)",
   "language": "python",
   "name": "python3"
  },
  "language_info": {
   "codemirror_mode": {
    "name": "ipython",
    "version": 3
   },
   "file_extension": ".py",
   "mimetype": "text/x-python",
   "name": "python",
   "nbconvert_exporter": "python",
   "pygments_lexer": "ipython3",
   "version": "3.9.12"
  }
 },
 "nbformat": 4,
 "nbformat_minor": 5
}
